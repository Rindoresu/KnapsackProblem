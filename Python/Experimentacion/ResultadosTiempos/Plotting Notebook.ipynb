{
 "cells": [
  {
   "cell_type": "code",
   "execution_count": 1,
   "metadata": {},
   "outputs": [],
   "source": [
    "import pandas as pd\n",
    "import seaborn as sns\n",
    "import matplotlib.pyplot as plt"
   ]
  },
  {
   "cell_type": "code",
   "execution_count": 2,
   "metadata": {},
   "outputs": [],
   "source": [
    "FBLinear = pd.read_csv(filepath_or_buffer=\"./FBTempsW=n.csv\")\n",
    "FBPseudo = pd.read_csv(filepath_or_buffer=\"./FBTempsW=2**n.csv\")\n",
    "BT1Linear = pd.read_csv(filepath_or_buffer=\"./BT1TempsW=n.csv\")\n",
    "BT1Pseudo = pd.read_csv(filepath_or_buffer=\"./BT1TempsW=2**n.csv\")\n",
    "BT2Linear = pd.read_csv(filepath_or_buffer=\"./BT2TempsW=n.csv\")\n",
    "BT2Pseudo = pd.read_csv(filepath_or_buffer=\"./BT2TempsW=2**n.csv\")\n",
    "#MitMLinear42 = pd.read_csv(filepath_or_buffer=\"./MitMTemps42W=n.csv\")\n",
    "MitMLinear = pd.read_csv(filepath_or_buffer=\"./MitMTempsW=n.csv\")\n",
    "MitMPseudo = pd.read_csv(filepath_or_buffer=\"./MitMTempsW=2**n.csv\")\n",
    "PDLinear = pd.read_csv(filepath_or_buffer=\"./PDTempsW=n.csv\")\n",
    "PDPseudo = pd.read_csv(filepath_or_buffer=\"./PDTempsW=2**n.csv\")\n",
    "FBLinear['Algoritmo'] = pd.Series('Fuerza Bruta W=n', index=FBLinear.index)\n",
    "FBPseudo['Algoritmo'] = pd.Series('Fuerza Bruta W=2^n', index=FBPseudo.index)\n",
    "BT1Linear['Algoritmo'] = pd.Series('BackTracking1 W=n', index=BT1Linear.index)\n",
    "BT1Pseudo['Algoritmo'] = pd.Series('BackTracking1 W=2^n', index=BT1Pseudo.index)\n",
    "BT2Linear['Algoritmo'] = pd.Series('BackTracking2 W=n', index=BT2Linear.index)\n",
    "BT2Pseudo['Algoritmo'] = pd.Series('BackTracking2 W=2^n', index=BT2Pseudo.index)\n",
    "#MitMLinear42['Algoritmo'] = pd.Series('Meet in the Middle W=n', index=MitMLinear42.index)\n",
    "MitMLinear['Algoritmo'] = pd.Series('Meet in the Middle W=n', index=MitMLinear.index)\n",
    "MitMPseudo['Algoritmo'] = pd.Series('Meet in the Middle W=2^n', index=MitMPseudo.index)\n",
    "PDLinear['Algoritmo'] = pd.Series('Programación Dinámica W=n', index=PDLinear.index)\n",
    "PDPseudo['Algoritmo'] = pd.Series('Programación Dinámica W=2^n', index=PDPseudo.index)\n"
   ]
  },
  {
   "cell_type": "code",
   "execution_count": 3,
   "metadata": {},
   "outputs": [],
   "source": [
    "exp = []\n",
    "vec_n = []\n",
    "for i in range(5,31):\n",
    "    exp.append(2**i)\n",
    "    vec_n.append(i)\n",
    "dic_exp = {'n' : vec_n,\n",
    "           '2^n' : exp}\n",
    "f_exp = pd.DataFrame(dic_exp)\n",
    "f_exp = f_exp.set_index('n')\n",
    "\n",
    "n_exp = []\n",
    "vec_n = []\n",
    "for i in range(5,31):\n",
    "    n_exp.append(i*2**i)\n",
    "    vec_n.append(i)\n",
    "dic_n_exp = {'n' : vec_n,\n",
    "             'n.2^n' : n_exp}\n",
    "f_n_exp = pd.DataFrame(dic_n_exp)\n",
    "f_n_exp = f_n_exp.set_index('n')\n",
    "\n",
    "cuad = []\n",
    "vec_n = []\n",
    "for i in range(5,31):\n",
    "    cuad.append(i*i)\n",
    "    vec_n.append(i)\n",
    "dic_cuad = {'n' : vec_n,\n",
    "            'n^2' : cuad}\n",
    "f_cuad = pd.DataFrame(dic_cuad)\n",
    "f_cuad = f_cuad.set_index('n')\n",
    "\n",
    "exp_div_2 = []\n",
    "vec_n = []\n",
    "for i in range(5,31):\n",
    "    exp_div_2.append(2**(i/2))\n",
    "    vec_n.append(i)\n",
    "dic_exp_div_2 = {'n' : vec_n,\n",
    "                 '2^(n/2)' : exp_div_2}\n",
    "f_exp_div_2 = pd.DataFrame(dic_exp_div_2)\n",
    "f_exp_div_2 = f_exp_div_2.set_index('n')\n",
    "\n",
    "n_exp_div_2 = []\n",
    "vec_n = []\n",
    "for i in range(5,31):\n",
    "    n_exp_div_2.append(i*2**(i/2))\n",
    "    vec_n.append(i)\n",
    "dic_n_exp_div_2 = {'n' : vec_n,\n",
    "                   'n.2^(n/2)' : n_exp_div_2}\n",
    "\n",
    "f_n_exp_div_2 = pd.DataFrame(dic_n_exp_div_2)\n",
    "f_n_exp_div_2 = f_n_exp_div_2.set_index('n')\n"
   ]
  },
  {
   "cell_type": "code",
   "execution_count": 4,
   "metadata": {},
   "outputs": [],
   "source": [
    "FBLinear = FBLinear.set_index('n')\n",
    "FBPseudo = FBPseudo.set_index('n')\n",
    "BT1Linear = BT1Linear.set_index('n')\n",
    "BT1Pseudo = BT1Pseudo.set_index('n')\n",
    "BT2Linear = BT2Linear.set_index('n')\n",
    "BT2Pseudo = BT2Pseudo.set_index('n')\n",
    "#MitMLinear42 = MitMLinear42.set_index('n')\n",
    "MitMLinear = MitMLinear.set_index('n')\n",
    "MitMPseudo = MitMPseudo.set_index('n')\n",
    "PDLinear = PDLinear.set_index('n')\n",
    "PDPseudo = PDPseudo.set_index('n')"
   ]
  },
  {
   "cell_type": "code",
   "execution_count": 5,
   "metadata": {},
   "outputs": [],
   "source": [
    "FBLinear = FBLinear.join(f_exp)\n",
    "FBPseudo = FBPseudo.join(f_exp)\n",
    "BT1Linear = BT1Linear.join(f_exp)\n",
    "BT1Pseudo = BT1Pseudo.join(f_exp)\n",
    "BT2Linear = BT2Linear.join(f_n_exp)\n",
    "BT2Pseudo = BT2Pseudo.join(f_n_exp)\n",
    "#MitMLinear42 = MitMLinear42.join(f_exp_div_2)\n",
    "MitMLinear = MitMLinear.join(f_exp_div_2)\n",
    "MitMPseudo = MitMPseudo.join(f_exp_div_2)\n",
    "#MitMLinear42PorN = MitMLinear42.join(f_n_exp_div_2)\n",
    "MitMLinearPorN = MitMLinear.join(f_n_exp_div_2)\n",
    "MitMPseudoPorN = MitMPseudo.join(f_n_exp_div_2)\n",
    "PDLinear = PDLinear.join(f_cuad)\n",
    "PDPseudo = PDPseudo.join(f_n_exp)\n",
    "\n",
    "#probando que hacer (SOLUCIONADO)\n",
    "#BT2Pseudo = BT2Pseudo.drop([25,26,27,28,29,30]) #estas columnas por alguna razon salieron mal en el algoritmo"
   ]
  },
  {
   "cell_type": "code",
   "execution_count": 6,
   "metadata": {},
   "outputs": [
    {
     "data": {
      "text/html": [
       "<div>\n",
       "<style scoped>\n",
       "    .dataframe tbody tr th:only-of-type {\n",
       "        vertical-align: middle;\n",
       "    }\n",
       "\n",
       "    .dataframe tbody tr th {\n",
       "        vertical-align: top;\n",
       "    }\n",
       "\n",
       "    .dataframe thead th {\n",
       "        text-align: right;\n",
       "    }\n",
       "</style>\n",
       "<table border=\"1\" class=\"dataframe\">\n",
       "  <thead>\n",
       "    <tr style=\"text-align: right;\">\n",
       "      <th></th>\n",
       "      <th>Tiempo</th>\n",
       "      <th>2^n</th>\n",
       "    </tr>\n",
       "  </thead>\n",
       "  <tbody>\n",
       "    <tr>\n",
       "      <th>Tiempo</th>\n",
       "      <td>1.000000</td>\n",
       "      <td>0.998145</td>\n",
       "    </tr>\n",
       "    <tr>\n",
       "      <th>2^n</th>\n",
       "      <td>0.998145</td>\n",
       "      <td>1.000000</td>\n",
       "    </tr>\n",
       "  </tbody>\n",
       "</table>\n",
       "</div>"
      ],
      "text/plain": [
       "          Tiempo       2^n\n",
       "Tiempo  1.000000  0.998145\n",
       "2^n     0.998145  1.000000"
      ]
     },
     "execution_count": 6,
     "metadata": {},
     "output_type": "execute_result"
    }
   ],
   "source": [
    "FBLinear.corr(method='pearson')"
   ]
  },
  {
   "cell_type": "code",
   "execution_count": 7,
   "metadata": {},
   "outputs": [
    {
     "data": {
      "text/html": [
       "<div>\n",
       "<style scoped>\n",
       "    .dataframe tbody tr th:only-of-type {\n",
       "        vertical-align: middle;\n",
       "    }\n",
       "\n",
       "    .dataframe tbody tr th {\n",
       "        vertical-align: top;\n",
       "    }\n",
       "\n",
       "    .dataframe thead th {\n",
       "        text-align: right;\n",
       "    }\n",
       "</style>\n",
       "<table border=\"1\" class=\"dataframe\">\n",
       "  <thead>\n",
       "    <tr style=\"text-align: right;\">\n",
       "      <th></th>\n",
       "      <th>Tiempo</th>\n",
       "      <th>2^n</th>\n",
       "    </tr>\n",
       "  </thead>\n",
       "  <tbody>\n",
       "    <tr>\n",
       "      <th>Tiempo</th>\n",
       "      <td>1.000000</td>\n",
       "      <td>0.998146</td>\n",
       "    </tr>\n",
       "    <tr>\n",
       "      <th>2^n</th>\n",
       "      <td>0.998146</td>\n",
       "      <td>1.000000</td>\n",
       "    </tr>\n",
       "  </tbody>\n",
       "</table>\n",
       "</div>"
      ],
      "text/plain": [
       "          Tiempo       2^n\n",
       "Tiempo  1.000000  0.998146\n",
       "2^n     0.998146  1.000000"
      ]
     },
     "execution_count": 7,
     "metadata": {},
     "output_type": "execute_result"
    }
   ],
   "source": [
    "FBPseudo.corr(method='pearson')"
   ]
  },
  {
   "cell_type": "code",
   "execution_count": 8,
   "metadata": {},
   "outputs": [
    {
     "data": {
      "text/html": [
       "<div>\n",
       "<style scoped>\n",
       "    .dataframe tbody tr th:only-of-type {\n",
       "        vertical-align: middle;\n",
       "    }\n",
       "\n",
       "    .dataframe tbody tr th {\n",
       "        vertical-align: top;\n",
       "    }\n",
       "\n",
       "    .dataframe thead th {\n",
       "        text-align: right;\n",
       "    }\n",
       "</style>\n",
       "<table border=\"1\" class=\"dataframe\">\n",
       "  <thead>\n",
       "    <tr style=\"text-align: right;\">\n",
       "      <th></th>\n",
       "      <th>Tiempo</th>\n",
       "      <th>2^n</th>\n",
       "    </tr>\n",
       "  </thead>\n",
       "  <tbody>\n",
       "    <tr>\n",
       "      <th>Tiempo</th>\n",
       "      <td>1.00000</td>\n",
       "      <td>-0.17074</td>\n",
       "    </tr>\n",
       "    <tr>\n",
       "      <th>2^n</th>\n",
       "      <td>-0.17074</td>\n",
       "      <td>1.00000</td>\n",
       "    </tr>\n",
       "  </tbody>\n",
       "</table>\n",
       "</div>"
      ],
      "text/plain": [
       "         Tiempo      2^n\n",
       "Tiempo  1.00000 -0.17074\n",
       "2^n    -0.17074  1.00000"
      ]
     },
     "execution_count": 8,
     "metadata": {},
     "output_type": "execute_result"
    }
   ],
   "source": [
    "BT1Linear.corr(method='pearson')"
   ]
  },
  {
   "cell_type": "code",
   "execution_count": 9,
   "metadata": {},
   "outputs": [
    {
     "data": {
      "text/html": [
       "<div>\n",
       "<style scoped>\n",
       "    .dataframe tbody tr th:only-of-type {\n",
       "        vertical-align: middle;\n",
       "    }\n",
       "\n",
       "    .dataframe tbody tr th {\n",
       "        vertical-align: top;\n",
       "    }\n",
       "\n",
       "    .dataframe thead th {\n",
       "        text-align: right;\n",
       "    }\n",
       "</style>\n",
       "<table border=\"1\" class=\"dataframe\">\n",
       "  <thead>\n",
       "    <tr style=\"text-align: right;\">\n",
       "      <th></th>\n",
       "      <th>Tiempo</th>\n",
       "      <th>2^n</th>\n",
       "    </tr>\n",
       "  </thead>\n",
       "  <tbody>\n",
       "    <tr>\n",
       "      <th>Tiempo</th>\n",
       "      <td>1.000000</td>\n",
       "      <td>-0.019697</td>\n",
       "    </tr>\n",
       "    <tr>\n",
       "      <th>2^n</th>\n",
       "      <td>-0.019697</td>\n",
       "      <td>1.000000</td>\n",
       "    </tr>\n",
       "  </tbody>\n",
       "</table>\n",
       "</div>"
      ],
      "text/plain": [
       "          Tiempo       2^n\n",
       "Tiempo  1.000000 -0.019697\n",
       "2^n    -0.019697  1.000000"
      ]
     },
     "execution_count": 9,
     "metadata": {},
     "output_type": "execute_result"
    }
   ],
   "source": [
    "BT1Pseudo.corr(method='pearson')"
   ]
  },
  {
   "cell_type": "code",
   "execution_count": 10,
   "metadata": {},
   "outputs": [
    {
     "data": {
      "text/html": [
       "<div>\n",
       "<style scoped>\n",
       "    .dataframe tbody tr th:only-of-type {\n",
       "        vertical-align: middle;\n",
       "    }\n",
       "\n",
       "    .dataframe tbody tr th {\n",
       "        vertical-align: top;\n",
       "    }\n",
       "\n",
       "    .dataframe thead th {\n",
       "        text-align: right;\n",
       "    }\n",
       "</style>\n",
       "<table border=\"1\" class=\"dataframe\">\n",
       "  <thead>\n",
       "    <tr style=\"text-align: right;\">\n",
       "      <th></th>\n",
       "      <th>Tiempo</th>\n",
       "      <th>n.2^n</th>\n",
       "    </tr>\n",
       "  </thead>\n",
       "  <tbody>\n",
       "    <tr>\n",
       "      <th>Tiempo</th>\n",
       "      <td>1.000000</td>\n",
       "      <td>0.999776</td>\n",
       "    </tr>\n",
       "    <tr>\n",
       "      <th>n.2^n</th>\n",
       "      <td>0.999776</td>\n",
       "      <td>1.000000</td>\n",
       "    </tr>\n",
       "  </tbody>\n",
       "</table>\n",
       "</div>"
      ],
      "text/plain": [
       "          Tiempo     n.2^n\n",
       "Tiempo  1.000000  0.999776\n",
       "n.2^n   0.999776  1.000000"
      ]
     },
     "execution_count": 10,
     "metadata": {},
     "output_type": "execute_result"
    }
   ],
   "source": [
    "BT2Linear.corr(method='pearson')"
   ]
  },
  {
   "cell_type": "code",
   "execution_count": 11,
   "metadata": {},
   "outputs": [
    {
     "data": {
      "text/html": [
       "<div>\n",
       "<style scoped>\n",
       "    .dataframe tbody tr th:only-of-type {\n",
       "        vertical-align: middle;\n",
       "    }\n",
       "\n",
       "    .dataframe tbody tr th {\n",
       "        vertical-align: top;\n",
       "    }\n",
       "\n",
       "    .dataframe thead th {\n",
       "        text-align: right;\n",
       "    }\n",
       "</style>\n",
       "<table border=\"1\" class=\"dataframe\">\n",
       "  <thead>\n",
       "    <tr style=\"text-align: right;\">\n",
       "      <th></th>\n",
       "      <th>Tiempo</th>\n",
       "      <th>n.2^n</th>\n",
       "    </tr>\n",
       "  </thead>\n",
       "  <tbody>\n",
       "    <tr>\n",
       "      <th>Tiempo</th>\n",
       "      <td>1.000000</td>\n",
       "      <td>0.999773</td>\n",
       "    </tr>\n",
       "    <tr>\n",
       "      <th>n.2^n</th>\n",
       "      <td>0.999773</td>\n",
       "      <td>1.000000</td>\n",
       "    </tr>\n",
       "  </tbody>\n",
       "</table>\n",
       "</div>"
      ],
      "text/plain": [
       "          Tiempo     n.2^n\n",
       "Tiempo  1.000000  0.999773\n",
       "n.2^n   0.999773  1.000000"
      ]
     },
     "execution_count": 11,
     "metadata": {},
     "output_type": "execute_result"
    }
   ],
   "source": [
    "BT2Pseudo.corr(method='pearson')"
   ]
  },
  {
   "cell_type": "code",
   "execution_count": 12,
   "metadata": {},
   "outputs": [
    {
     "data": {
      "text/html": [
       "<div>\n",
       "<style scoped>\n",
       "    .dataframe tbody tr th:only-of-type {\n",
       "        vertical-align: middle;\n",
       "    }\n",
       "\n",
       "    .dataframe tbody tr th {\n",
       "        vertical-align: top;\n",
       "    }\n",
       "\n",
       "    .dataframe thead th {\n",
       "        text-align: right;\n",
       "    }\n",
       "</style>\n",
       "<table border=\"1\" class=\"dataframe\">\n",
       "  <thead>\n",
       "    <tr style=\"text-align: right;\">\n",
       "      <th></th>\n",
       "      <th>Tiempo</th>\n",
       "      <th>2^(n/2)</th>\n",
       "    </tr>\n",
       "  </thead>\n",
       "  <tbody>\n",
       "    <tr>\n",
       "      <th>Tiempo</th>\n",
       "      <td>1.000000</td>\n",
       "      <td>0.991792</td>\n",
       "    </tr>\n",
       "    <tr>\n",
       "      <th>2^(n/2)</th>\n",
       "      <td>0.991792</td>\n",
       "      <td>1.000000</td>\n",
       "    </tr>\n",
       "  </tbody>\n",
       "</table>\n",
       "</div>"
      ],
      "text/plain": [
       "           Tiempo   2^(n/2)\n",
       "Tiempo   1.000000  0.991792\n",
       "2^(n/2)  0.991792  1.000000"
      ]
     },
     "execution_count": 12,
     "metadata": {},
     "output_type": "execute_result"
    }
   ],
   "source": [
    "MitMLinear.corr(method='pearson')"
   ]
  },
  {
   "cell_type": "code",
   "execution_count": 13,
   "metadata": {},
   "outputs": [
    {
     "data": {
      "text/html": [
       "<div>\n",
       "<style scoped>\n",
       "    .dataframe tbody tr th:only-of-type {\n",
       "        vertical-align: middle;\n",
       "    }\n",
       "\n",
       "    .dataframe tbody tr th {\n",
       "        vertical-align: top;\n",
       "    }\n",
       "\n",
       "    .dataframe thead th {\n",
       "        text-align: right;\n",
       "    }\n",
       "</style>\n",
       "<table border=\"1\" class=\"dataframe\">\n",
       "  <thead>\n",
       "    <tr style=\"text-align: right;\">\n",
       "      <th></th>\n",
       "      <th>Tiempo</th>\n",
       "      <th>2^(n/2)</th>\n",
       "    </tr>\n",
       "  </thead>\n",
       "  <tbody>\n",
       "    <tr>\n",
       "      <th>Tiempo</th>\n",
       "      <td>1.000000</td>\n",
       "      <td>0.992641</td>\n",
       "    </tr>\n",
       "    <tr>\n",
       "      <th>2^(n/2)</th>\n",
       "      <td>0.992641</td>\n",
       "      <td>1.000000</td>\n",
       "    </tr>\n",
       "  </tbody>\n",
       "</table>\n",
       "</div>"
      ],
      "text/plain": [
       "           Tiempo   2^(n/2)\n",
       "Tiempo   1.000000  0.992641\n",
       "2^(n/2)  0.992641  1.000000"
      ]
     },
     "execution_count": 13,
     "metadata": {},
     "output_type": "execute_result"
    }
   ],
   "source": [
    "MitMPseudo.corr(method='pearson')"
   ]
  },
  {
   "cell_type": "code",
   "execution_count": 14,
   "metadata": {},
   "outputs": [],
   "source": [
    "#MitMLinear42.corr(method='pearson')"
   ]
  },
  {
   "cell_type": "code",
   "execution_count": 15,
   "metadata": {},
   "outputs": [
    {
     "data": {
      "text/html": [
       "<div>\n",
       "<style scoped>\n",
       "    .dataframe tbody tr th:only-of-type {\n",
       "        vertical-align: middle;\n",
       "    }\n",
       "\n",
       "    .dataframe tbody tr th {\n",
       "        vertical-align: top;\n",
       "    }\n",
       "\n",
       "    .dataframe thead th {\n",
       "        text-align: right;\n",
       "    }\n",
       "</style>\n",
       "<table border=\"1\" class=\"dataframe\">\n",
       "  <thead>\n",
       "    <tr style=\"text-align: right;\">\n",
       "      <th></th>\n",
       "      <th>Tiempo</th>\n",
       "      <th>2^(n/2)</th>\n",
       "      <th>n.2^(n/2)</th>\n",
       "    </tr>\n",
       "  </thead>\n",
       "  <tbody>\n",
       "    <tr>\n",
       "      <th>Tiempo</th>\n",
       "      <td>1.000000</td>\n",
       "      <td>0.991792</td>\n",
       "      <td>0.996149</td>\n",
       "    </tr>\n",
       "    <tr>\n",
       "      <th>2^(n/2)</th>\n",
       "      <td>0.991792</td>\n",
       "      <td>1.000000</td>\n",
       "      <td>0.998940</td>\n",
       "    </tr>\n",
       "    <tr>\n",
       "      <th>n.2^(n/2)</th>\n",
       "      <td>0.996149</td>\n",
       "      <td>0.998940</td>\n",
       "      <td>1.000000</td>\n",
       "    </tr>\n",
       "  </tbody>\n",
       "</table>\n",
       "</div>"
      ],
      "text/plain": [
       "             Tiempo   2^(n/2)  n.2^(n/2)\n",
       "Tiempo     1.000000  0.991792   0.996149\n",
       "2^(n/2)    0.991792  1.000000   0.998940\n",
       "n.2^(n/2)  0.996149  0.998940   1.000000"
      ]
     },
     "execution_count": 15,
     "metadata": {},
     "output_type": "execute_result"
    }
   ],
   "source": [
    "MitMLinearPorN.corr(method='pearson')"
   ]
  },
  {
   "cell_type": "code",
   "execution_count": 16,
   "metadata": {},
   "outputs": [
    {
     "data": {
      "text/html": [
       "<div>\n",
       "<style scoped>\n",
       "    .dataframe tbody tr th:only-of-type {\n",
       "        vertical-align: middle;\n",
       "    }\n",
       "\n",
       "    .dataframe tbody tr th {\n",
       "        vertical-align: top;\n",
       "    }\n",
       "\n",
       "    .dataframe thead th {\n",
       "        text-align: right;\n",
       "    }\n",
       "</style>\n",
       "<table border=\"1\" class=\"dataframe\">\n",
       "  <thead>\n",
       "    <tr style=\"text-align: right;\">\n",
       "      <th></th>\n",
       "      <th>Tiempo</th>\n",
       "      <th>2^(n/2)</th>\n",
       "      <th>n.2^(n/2)</th>\n",
       "    </tr>\n",
       "  </thead>\n",
       "  <tbody>\n",
       "    <tr>\n",
       "      <th>Tiempo</th>\n",
       "      <td>1.000000</td>\n",
       "      <td>0.992641</td>\n",
       "      <td>0.99658</td>\n",
       "    </tr>\n",
       "    <tr>\n",
       "      <th>2^(n/2)</th>\n",
       "      <td>0.992641</td>\n",
       "      <td>1.000000</td>\n",
       "      <td>0.99894</td>\n",
       "    </tr>\n",
       "    <tr>\n",
       "      <th>n.2^(n/2)</th>\n",
       "      <td>0.996580</td>\n",
       "      <td>0.998940</td>\n",
       "      <td>1.00000</td>\n",
       "    </tr>\n",
       "  </tbody>\n",
       "</table>\n",
       "</div>"
      ],
      "text/plain": [
       "             Tiempo   2^(n/2)  n.2^(n/2)\n",
       "Tiempo     1.000000  0.992641    0.99658\n",
       "2^(n/2)    0.992641  1.000000    0.99894\n",
       "n.2^(n/2)  0.996580  0.998940    1.00000"
      ]
     },
     "execution_count": 16,
     "metadata": {},
     "output_type": "execute_result"
    }
   ],
   "source": [
    "MitMPseudoPorN.corr(method='pearson')"
   ]
  },
  {
   "cell_type": "code",
   "execution_count": 17,
   "metadata": {},
   "outputs": [],
   "source": [
    "#MitMLinear42PorN.corr(method='pearson')"
   ]
  },
  {
   "cell_type": "code",
   "execution_count": 18,
   "metadata": {},
   "outputs": [
    {
     "data": {
      "text/html": [
       "<div>\n",
       "<style scoped>\n",
       "    .dataframe tbody tr th:only-of-type {\n",
       "        vertical-align: middle;\n",
       "    }\n",
       "\n",
       "    .dataframe tbody tr th {\n",
       "        vertical-align: top;\n",
       "    }\n",
       "\n",
       "    .dataframe thead th {\n",
       "        text-align: right;\n",
       "    }\n",
       "</style>\n",
       "<table border=\"1\" class=\"dataframe\">\n",
       "  <thead>\n",
       "    <tr style=\"text-align: right;\">\n",
       "      <th></th>\n",
       "      <th>Tiempo</th>\n",
       "      <th>n^2</th>\n",
       "    </tr>\n",
       "  </thead>\n",
       "  <tbody>\n",
       "    <tr>\n",
       "      <th>Tiempo</th>\n",
       "      <td>1.000000</td>\n",
       "      <td>0.999731</td>\n",
       "    </tr>\n",
       "    <tr>\n",
       "      <th>n^2</th>\n",
       "      <td>0.999731</td>\n",
       "      <td>1.000000</td>\n",
       "    </tr>\n",
       "  </tbody>\n",
       "</table>\n",
       "</div>"
      ],
      "text/plain": [
       "          Tiempo       n^2\n",
       "Tiempo  1.000000  0.999731\n",
       "n^2     0.999731  1.000000"
      ]
     },
     "execution_count": 18,
     "metadata": {},
     "output_type": "execute_result"
    }
   ],
   "source": [
    "PDLinear.corr(method='pearson')"
   ]
  },
  {
   "cell_type": "code",
   "execution_count": 19,
   "metadata": {},
   "outputs": [
    {
     "data": {
      "text/html": [
       "<div>\n",
       "<style scoped>\n",
       "    .dataframe tbody tr th:only-of-type {\n",
       "        vertical-align: middle;\n",
       "    }\n",
       "\n",
       "    .dataframe tbody tr th {\n",
       "        vertical-align: top;\n",
       "    }\n",
       "\n",
       "    .dataframe thead th {\n",
       "        text-align: right;\n",
       "    }\n",
       "</style>\n",
       "<table border=\"1\" class=\"dataframe\">\n",
       "  <thead>\n",
       "    <tr style=\"text-align: right;\">\n",
       "      <th></th>\n",
       "      <th>Tiempo</th>\n",
       "      <th>n.2^n</th>\n",
       "    </tr>\n",
       "  </thead>\n",
       "  <tbody>\n",
       "    <tr>\n",
       "      <th>Tiempo</th>\n",
       "      <td>1.000000</td>\n",
       "      <td>0.999995</td>\n",
       "    </tr>\n",
       "    <tr>\n",
       "      <th>n.2^n</th>\n",
       "      <td>0.999995</td>\n",
       "      <td>1.000000</td>\n",
       "    </tr>\n",
       "  </tbody>\n",
       "</table>\n",
       "</div>"
      ],
      "text/plain": [
       "          Tiempo     n.2^n\n",
       "Tiempo  1.000000  0.999995\n",
       "n.2^n   0.999995  1.000000"
      ]
     },
     "execution_count": 19,
     "metadata": {},
     "output_type": "execute_result"
    }
   ],
   "source": [
    "PDPseudo.corr(method='pearson')"
   ]
  },
  {
   "cell_type": "code",
   "execution_count": 20,
   "metadata": {},
   "outputs": [],
   "source": [
    "FBLinear = FBLinear.reset_index()\n",
    "FBPseudo = FBPseudo.reset_index()\n",
    "BT1Linear = BT1Linear.reset_index()\n",
    "BT1Pseudo = BT1Pseudo.reset_index()\n",
    "BT2Linear = BT2Linear.reset_index()\n",
    "BT2Pseudo = BT2Pseudo.reset_index()\n",
    "#MitMLinear42 = MitMLinear42.reset_index()\n",
    "MitMLinearPorN = MitMLinearPorN.reset_index()\n",
    "MitMPseudoPorN = MitMPseudoPorN.reset_index()\n",
    "PDLinear = PDLinear.reset_index()\n",
    "PDPseudo = PDPseudo.reset_index()\n",
    "\n"
   ]
  },
  {
   "cell_type": "code",
   "execution_count": 21,
   "metadata": {},
   "outputs": [
    {
     "name": "stderr",
     "output_type": "stream",
     "text": [
      "/usr/local/lib/python3.6/dist-packages/ipykernel_launcher.py:2: FutureWarning: Sorting because non-concatenation axis is not aligned. A future version\n",
      "of pandas will change to not sort by default.\n",
      "\n",
      "To accept the future behavior, pass 'sort=False'.\n",
      "\n",
      "To retain the current behavior and silence the warning, pass 'sort=True'.\n",
      "\n",
      "  \n"
     ]
    },
    {
     "data": {
      "text/plain": [
       "<matplotlib.axes._subplots.AxesSubplot at 0x7f6ee54d6710>"
      ]
     },
     "execution_count": 21,
     "metadata": {},
     "output_type": "execute_result"
    },
    {
     "data": {
      "image/png": "[encoded data removed]",
      "text/plain": [
       "<Figure size 432x288 with 1 Axes>"
      ]
     },
     "metadata": {
      "needs_background": "light"
     },
     "output_type": "display_data"
    }
   ],
   "source": [
    "framesExp = [FBLinear, FBPseudo, BT2Linear, BT2Pseudo]\n",
    "exponenciales= pd.concat(framesExp)\n",
    "exponenciales = exponenciales.set_index(['Algoritmo','n'])\n",
    "graphicsExp = sns.lineplot(data=exponenciales.reset_index(), y='Tiempo', x='2^n', hue='Algoritmo', style='Algoritmo')\n",
    "\n",
    "graphicsExp.set_xscale('log')\n",
    "graphicsExp.set_yscale('log')\n",
    "graphicsExp"
   ]
  },
  {
   "cell_type": "code",
   "execution_count": 22,
   "metadata": {},
   "outputs": [
    {
     "data": {
      "text/plain": [
       "<matplotlib.axes._subplots.AxesSubplot at 0x7f6ee3122e48>"
      ]
     },
     "execution_count": 22,
     "metadata": {},
     "output_type": "execute_result"
    },
    {
     "data": {
      "image/png": "[encoded data removed]",
      "text/plain": [
       "<Figure size 432x288 with 1 Axes>"
      ]
     },
     "metadata": {
      "needs_background": "light"
     },
     "output_type": "display_data"
    }
   ],
   "source": [
    "framesExpDiv2 = [MitMLinearPorN, MitMPseudoPorN]\n",
    "exponencialesDiv2 = pd.concat(framesExpDiv2)\n",
    "exponencialesDiv2 = exponencialesDiv2.set_index(['Algoritmo','n'])\n",
    "graphicsExpDiv2 = sns.lineplot(data=exponencialesDiv2.reset_index(), y='Tiempo', x='n.2^(n/2)', hue='Algoritmo', style='Algoritmo')\n",
    "\n",
    "graphicsExpDiv2.set_xscale('log')\n",
    "graphicsExpDiv2.set_yscale('log')\n",
    "graphicsExpDiv2"
   ]
  },
  {
   "cell_type": "code",
   "execution_count": 23,
   "metadata": {},
   "outputs": [
    {
     "data": {
      "text/plain": [
       "<matplotlib.axes._subplots.AxesSubplot at 0x7f6ee2f81668>"
      ]
     },
     "execution_count": 23,
     "metadata": {},
     "output_type": "execute_result"
    },
    {
     "data": {
      "image/png": "[encoded data removed]",
      "text/plain": [
       "<Figure size 432x288 with 1 Axes>"
      ]
     },
     "metadata": {
      "needs_background": "light"
     },
     "output_type": "display_data"
    }
   ],
   "source": [
    "graphicsPDExp = sns.lineplot(data=PDPseudo.reset_index(), y='Tiempo', x='n.2^n', hue='Algoritmo', style='Algoritmo')\n",
    "\n",
    "graphicsPDExp.set_xscale('log')\n",
    "graphicsPDExp.set_yscale('log')\n",
    "graphicsPDExp"
   ]
  },
  {
   "cell_type": "code",
   "execution_count": 24,
   "metadata": {},
   "outputs": [
    {
     "data": {
      "text/plain": [
       "<matplotlib.axes._subplots.AxesSubplot at 0x7f6ee2dc2a90>"
      ]
     },
     "execution_count": 24,
     "metadata": {},
     "output_type": "execute_result"
    },
    {
     "data": {
      "image/png": "[encoded data removed]",
      "text/plain": [
       "<Figure size 432x288 with 1 Axes>"
      ]
     },
     "metadata": {
      "needs_background": "light"
     },
     "output_type": "display_data"
    }
   ],
   "source": [
    "graphicsPDLin = sns.lineplot(data=PDLinear.reset_index(), y='Tiempo', x='n^2', hue='Algoritmo', style='Algoritmo')\n",
    "\n",
    "graphicsPDLin"
   ]
  },
  {
   "cell_type": "code",
   "execution_count": 25,
   "metadata": {},
   "outputs": [
    {
     "data": {
      "text/plain": [
       "<matplotlib.axes._subplots.AxesSubplot at 0x7f6ee2ce1f28>"
      ]
     },
     "execution_count": 25,
     "metadata": {},
     "output_type": "execute_result"
    },
    {
     "data": {
      "image/png": "[encoded data removed]",
      "text/plain": [
       "<Figure size 432x288 with 1 Axes>"
      ]
     },
     "metadata": {
      "needs_background": "light"
     },
     "output_type": "display_data"
    }
   ],
   "source": [
    "todosJuntosYFelicesLineal = [FBLinear, BT1Linear, BT2Linear, MitMLinearPorN, PDLinear]\n",
    "todasLineal = pd.concat(todosJuntosYFelicesLineal, sort=False)\n",
    "todasLineal = todasLineal.set_index(['Algoritmo','n'])\n",
    "\n",
    "TempsGraphicsLineal = sns.lineplot(data=todasLineal.reset_index(), y='Tiempo', x='n', hue='Algoritmo', style='Algoritmo')\n",
    "\n",
    "TempsGraphicsLineal.set_yscale('log')\n",
    "TempsGraphicsLineal"
   ]
  },
  {
   "cell_type": "code",
   "execution_count": 26,
   "metadata": {},
   "outputs": [
    {
     "data": {
      "text/plain": [
       "<matplotlib.axes._subplots.AxesSubplot at 0x7f6ee2dcb518>"
      ]
     },
     "execution_count": 26,
     "metadata": {},
     "output_type": "execute_result"
    },
    {
     "data": {
      "image/png": "[encoded data removed]",
      "text/plain": [
       "<Figure size 432x288 with 1 Axes>"
      ]
     },
     "metadata": {
      "needs_background": "light"
     },
     "output_type": "display_data"
    }
   ],
   "source": [
    "todosJuntosYFelicesExp = [FBPseudo, BT1Pseudo, BT2Pseudo, MitMPseudoPorN, PDPseudo]\n",
    "todasExp = pd.concat(todosJuntosYFelicesExp, sort=False)\n",
    "todasExp = todasExp.set_index(['Algoritmo','n'])\n",
    "\n",
    "TempsGraphicsExp = sns.lineplot(data=todasExp.reset_index(), y='Tiempo', x='n', hue='Algoritmo', style='Algoritmo')\n",
    "\n",
    "TempsGraphicsExp.set_yscale('log')\n",
    "TempsGraphicsExp"
   ]
  }
 ],
 "metadata": {
  "kernelspec": {
   "display_name": "Python 3",
   "language": "python",
   "name": "python3"
  },
  "language_info": {
   "codemirror_mode": {
    "name": "ipython",
    "version": 3
   },
   "file_extension": ".py",
   "mimetype": "text/x-python",
   "name": "python",
   "nbconvert_exporter": "python",
   "pygments_lexer": "ipython3",
   "version": "3.6.7"
  }
 },
 "nbformat": 4,
 "nbformat_minor": 2
}
